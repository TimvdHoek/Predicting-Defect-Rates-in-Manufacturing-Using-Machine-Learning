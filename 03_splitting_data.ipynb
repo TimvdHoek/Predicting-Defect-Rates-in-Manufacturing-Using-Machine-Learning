{
 "cells": [
  {
   "cell_type": "markdown",
   "id": "2aa4f05a-54d4-4be2-aca0-bbaf4400a899",
   "metadata": {},
   "source": [
    "# Splitting the data"
   ]
  },
  {
   "cell_type": "code",
   "execution_count": 3,
   "id": "f3b8306e-683d-4014-861c-5b60c2d2719f",
   "metadata": {},
   "outputs": [],
   "source": [
    "import pandas as pd\n",
    "from sklearn.model_selection import train_test_split"
   ]
  },
  {
   "cell_type": "code",
   "execution_count": 4,
   "id": "b8f8e385-9f49-452a-8cb8-59dafe672e9b",
   "metadata": {},
   "outputs": [],
   "source": [
    "# Load the datasets\n",
    "df_engineered = pd.read_csv('DefectData_Engineered.csv')\n",
    "df_original = pd.read_csv('DefectData_Original.csv')\n"
   ]
  },
  {
   "cell_type": "code",
   "execution_count": 5,
   "id": "9a69e4ca-ba8c-4ecd-a26a-35b2caf3bbff",
   "metadata": {},
   "outputs": [],
   "source": [
    "# Drop the 'DefectStatus' variable\n",
    "df_engineered = df_engineered.drop(columns=['DefectStatus'])\n",
    "df_original = df_original.drop(columns=['DefectStatus'])\n"
   ]
  },
  {
   "cell_type": "code",
   "execution_count": 6,
   "id": "93258ddb-47db-472d-9e91-fb926fc4f3f1",
   "metadata": {},
   "outputs": [],
   "source": [
    "# Define the feature set and target variable for each dataset\n",
    "X_engineered = df_engineered.drop(columns=['DefectRate'])\n",
    "y_engineered = df_engineered['DefectRate']\n",
    "X_original = df_original.drop(columns=['DefectRate'])\n",
    "y_original = df_original['DefectRate']"
   ]
  },
  {
   "cell_type": "code",
   "execution_count": 7,
   "id": "a7ea8286-33b4-4a04-aa00-c07f9b1b0a69",
   "metadata": {},
   "outputs": [],
   "source": [
    "# Split the data into training and test sets (80% train, 20% test)\n",
    "X_train_engineered, X_test_engineered, y_train_engineered, y_test_engineered = train_test_split(X_engineered, y_engineered, test_size=0.2, random_state=42)\n",
    "X_train_original, X_test_original, y_train_original, y_test_original = train_test_split(X_original, y_original, test_size=0.2, random_state=42)"
   ]
  },
  {
   "cell_type": "code",
   "execution_count": 9,
   "id": "04af18f6-d63c-4dca-b4d3-44d7416b65de",
   "metadata": {},
   "outputs": [],
   "source": [
    "# Save the training and test sets for both original and engineered datasets\n",
    "X_train_engineered.to_csv('Train_Test_Data/X_train_engineered.csv', index=False)\n",
    "X_test_engineered.to_csv('Train_Test_Data/X_test_engineered.csv', index=False)\n",
    "y_train_engineered.to_csv('Train_Test_Data/y_train_engineered.csv', index=False)\n",
    "y_test_engineered.to_csv('Train_Test_Data/y_test_engineered.csv', index=False)\n",
    "\n",
    "X_train_original.to_csv('Train_Test_Data/X_train_original.csv', index=False)\n",
    "X_test_original.to_csv('Train_Test_Data/X_test_original.csv', index=False)\n",
    "y_train_original.to_csv('Train_Test_Data/y_train_original.csv', index=False)\n",
    "y_test_original.to_csv('Train_Test_Data/y_test_original.csv', index=False)"
   ]
  }
 ],
 "metadata": {
  "kernelspec": {
   "display_name": "Python 3 (ipykernel)",
   "language": "python",
   "name": "python3"
  },
  "language_info": {
   "codemirror_mode": {
    "name": "ipython",
    "version": 3
   },
   "file_extension": ".py",
   "mimetype": "text/x-python",
   "name": "python",
   "nbconvert_exporter": "python",
   "pygments_lexer": "ipython3",
   "version": "3.9.12"
  }
 },
 "nbformat": 4,
 "nbformat_minor": 5
}
